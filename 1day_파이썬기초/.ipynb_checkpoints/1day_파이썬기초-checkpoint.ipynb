{
 "cells": [
  {
   "cell_type": "code",
   "execution_count": 1,
   "id": "1a65d418",
   "metadata": {},
   "outputs": [],
   "source": [
    "import pandas as pd\n",
    "import numpy as np"
   ]
  },
  {
   "cell_type": "markdown",
   "id": "ce37d6ba",
   "metadata": {},
   "source": [
    "변수저장 -> 메모리\n",
    "리스트 -> 차원변경가능, 순서있음(메모리주소), 인덱스번호로접근, 수정가능\n",
    "딕셔너리 -> 중괄호, 키:벨류, 하나만들려면 3개메모리 (전체, 키, 벨류), 순서없음, 인덱스개념중요x\n",
    "튜플 -> 소괄호, 인덱스번호사용, 수정불가능(그렇게만들어져있으니까)\n",
    "\n",
    "조회, 결과 -> 데이터프레임\n",
    "필터링 -> 리스트\n",
    "값 뽑아내기 -> for문\n",
    "for문 -> range : 범위를나타내는함수(1.인덱스번호로접근)\n",
    "list + range : 인덱스번호로 접근해라\n",
    "(2. list에 있는 값자체로 접근)\n",
    "\n",
    "결측치 -> NA, Null, ''\n",
    "fillna(0)\n",
    "특정행만 따로 결측치변경 for문 사용\n",
    "if문 비교연산자 ==, >=, != , <= (왼쪽기준)\n",
    "if 반환값 -> bool : True, False\n",
    "\n",
    "for, while -> 돌릴수있는개수를 알고있느냐 모르고있느냐\n",
    "while은 break; 걸어줘야함\n",
    "\n",
    "\n",
    "pivot table(집계 -> 전처리), heatmap\n",
    "\n",
    "분석완료 -> 2차분석(원인분석,패턴분석)\n",
    "\n",
    "데이터수집(csv, api, web crowling) -> 전처리 -> 시각적인분석(인사이트,문제점) -> 실제 데이터 분석 ->\n",
    "\n",
    "\n",
    "가상환경?? 커널 ??"
   ]
  },
  {
   "cell_type": "markdown",
   "id": "e25a9f28",
   "metadata": {},
   "source": [
    "### 파이썬 기초"
   ]
  },
  {
   "cell_type": "code",
   "execution_count": 2,
   "id": "25a58139",
   "metadata": {},
   "outputs": [
    {
     "data": {
      "text/plain": [
       "'\\n[문제]\\ndict_val 이라는 딕셔너리 변수에\\n아래 값을 넣기\\na키에는 리스트 \"aa\" , \"bb\",\"cc\" 넣기\\nb키에는 리스트 \\'a\\',\\'b\\',\\'c\\'넣기\\n\\ndict_val에 들어있는 키값에 대한 리스트 출력하기\\n'"
      ]
     },
     "execution_count": 2,
     "metadata": {},
     "output_type": "execute_result"
    }
   ],
   "source": [
    "'''\n",
    "[문제]\n",
    "dict_val 이라는 딕셔너리 변수에\n",
    "아래 값을 넣기\n",
    "a키에는 리스트 \"aa\" , \"bb\",\"cc\" 넣기\n",
    "b키에는 리스트 'a','b','c'넣기\n",
    "\n",
    "dict_val에 들어있는 키값에 대한 리스트 출력하기\n",
    "'''"
   ]
  },
  {
   "cell_type": "code",
   "execution_count": 3,
   "id": "e58a4943",
   "metadata": {},
   "outputs": [
    {
     "name": "stdout",
     "output_type": "stream",
     "text": [
      "['aa', 'bb', 'cc']\n",
      "['a', 'b', 'c']\n"
     ]
    }
   ],
   "source": [
    "dict_val = {'a':['aa','bb','cc'], 'b':['a','b','c']}\n",
    "\n",
    "print(dict_val['a'])\n",
    "print(dict_val['b'])"
   ]
  },
  {
   "cell_type": "code",
   "execution_count": 4,
   "id": "ad07305a",
   "metadata": {},
   "outputs": [
    {
     "data": {
      "text/plain": [
       "{'a': ['aa', 'bb', 'cc'], 'b': ['a', 'b', 'c']}"
      ]
     },
     "execution_count": 4,
     "metadata": {},
     "output_type": "execute_result"
    }
   ],
   "source": [
    "dict_val"
   ]
  },
  {
   "cell_type": "code",
   "execution_count": 5,
   "id": "7fe2ae50",
   "metadata": {},
   "outputs": [
    {
     "name": "stdout",
     "output_type": "stream",
     "text": [
      "['aa', 'bb', 'cc']\n",
      "aa\n",
      "bb\n",
      "cc\n",
      "aa\n",
      "bb\n",
      "cc\n",
      "aa\n",
      "bb\n",
      "cc\n",
      "aa\n",
      "bb\n",
      "cc\n",
      "['a', 'b', 'c']\n",
      "a\n",
      "b\n",
      "c\n",
      "a\n",
      "b\n",
      "c\n",
      "a\n",
      "b\n",
      "c\n",
      "a\n",
      "b\n",
      "c\n"
     ]
    }
   ],
   "source": [
    "for k in dict_val :\n",
    "    # key의 값 가지고 오기\n",
    "    print(dict_val[k])\n",
    "    list_val = dict_val[k]\n",
    "    # 리스트의 값을 이용하는 방식\n",
    "    for val in dict_val[k]:\n",
    "        print(val)\n",
    "    # 리스트의 인덱스번호를 이용하는 방식\n",
    "    for j in range(0,len(dict_val[k])):\n",
    "        print(dict_val[k][j])\n",
    "        \n",
    "    for val in list_val :\n",
    "        print(val)\n",
    "    \n",
    "    for i in range(0, len(list_val)):\n",
    "        print(list_val[i])"
   ]
  },
  {
   "cell_type": "code",
   "execution_count": 6,
   "id": "014f1159",
   "metadata": {},
   "outputs": [
    {
     "name": "stdout",
     "output_type": "stream",
     "text": [
      "aa\n",
      "bb\n",
      "cc\n",
      "a\n",
      "b\n",
      "c\n"
     ]
    }
   ],
   "source": [
    "# 인덱스를 이용한 방식\n",
    "for k in dict_val:\n",
    "    for j in range(0,len(dict_val[k])):\n",
    "        print(dict_val[k][j])"
   ]
  },
  {
   "cell_type": "code",
   "execution_count": 7,
   "id": "41c7ad0c",
   "metadata": {},
   "outputs": [
    {
     "name": "stdout",
     "output_type": "stream",
     "text": [
      "c\n",
      "c\n"
     ]
    }
   ],
   "source": [
    "# 값을 이용한 방식\n",
    "for k in dict_val:\n",
    "    \n",
    "        print(val)"
   ]
  },
  {
   "cell_type": "code",
   "execution_count": 8,
   "id": "598759d4",
   "metadata": {},
   "outputs": [
    {
     "data": {
      "text/plain": [
       "\"\\nlist_val 이라는 리스트 변수에 딕셔너리 값을 넣겠습니다\\n첫번째 리스트에는 a키, 값은 리스트 'aa','bb','cc' 넣기\\n두번째 리스트에는 b키, 값은 리스트 'a','b','c'넣기\\n\\nlist_val 출력하기\\n\""
      ]
     },
     "execution_count": 8,
     "metadata": {},
     "output_type": "execute_result"
    }
   ],
   "source": [
    "'''\n",
    "list_val 이라는 리스트 변수에 딕셔너리 값을 넣겠습니다\n",
    "첫번째 리스트에는 a키, 값은 리스트 'aa','bb','cc' 넣기\n",
    "두번째 리스트에는 b키, 값은 리스트 'a','b','c'넣기\n",
    "\n",
    "list_val 출력하기\n",
    "'''"
   ]
  },
  {
   "cell_type": "code",
   "execution_count": 9,
   "id": "40567d3f",
   "metadata": {},
   "outputs": [
    {
     "name": "stdout",
     "output_type": "stream",
     "text": [
      "[{'a': ['aa', 'bb', 'cc']}, {'b': ['a', 'b', 'c']}]\n"
     ]
    }
   ],
   "source": [
    "list_val = [{'a':['aa','bb','cc']}, {'b':['a','b','c']}]\n",
    "print(list_val)"
   ]
  },
  {
   "cell_type": "code",
   "execution_count": 10,
   "id": "a9058c94",
   "metadata": {},
   "outputs": [
    {
     "data": {
      "text/plain": [
       "'aa'"
      ]
     },
     "execution_count": 10,
     "metadata": {},
     "output_type": "execute_result"
    }
   ],
   "source": [
    "list_val[0]['a'][0]"
   ]
  },
  {
   "cell_type": "code",
   "execution_count": 11,
   "id": "ec74114e",
   "metadata": {},
   "outputs": [
    {
     "data": {
      "text/plain": [
       "[{'a': ['aa', 'bb', 'cc']}, {'b': ['a', 'b', 'c']}]"
      ]
     },
     "execution_count": 11,
     "metadata": {},
     "output_type": "execute_result"
    }
   ],
   "source": [
    "dict1 = {'a':['aa','bb','cc']}\n",
    "dict2 = {'b':['a','b','c']}\n",
    "list_val2 = [dict1,dict2]\n",
    "list_val2"
   ]
  },
  {
   "cell_type": "code",
   "execution_count": 12,
   "id": "9c623543",
   "metadata": {},
   "outputs": [
    {
     "name": "stdout",
     "output_type": "stream",
     "text": [
      "{'a': ['aa', 'bb', 'cc']}\n",
      "{'b': ['a', 'b', 'c']}\n"
     ]
    }
   ],
   "source": [
    "# list_val에 들어있는 딕셔너리의 키에 대응한 값들을 모두 출력해주세요\n",
    "for k in range (0,len(list_val)):\n",
    "    print(list_val[k])"
   ]
  },
  {
   "cell_type": "code",
   "execution_count": 13,
   "id": "4702bb26",
   "metadata": {},
   "outputs": [
    {
     "name": "stdout",
     "output_type": "stream",
     "text": [
      "a\n",
      "b\n"
     ]
    }
   ],
   "source": [
    "# 키값만 출력\n",
    "for k in range (0,len(list_val)):\n",
    "    for val in list_val[k]:\n",
    "        print(val)"
   ]
  },
  {
   "cell_type": "code",
   "execution_count": 14,
   "id": "6e0a2b8b",
   "metadata": {},
   "outputs": [
    {
     "ename": "IndexError",
     "evalue": "list index out of range",
     "output_type": "error",
     "traceback": [
      "\u001b[1;31m---------------------------------------------------------------------------\u001b[0m",
      "\u001b[1;31mIndexError\u001b[0m                                Traceback (most recent call last)",
      "Input \u001b[1;32mIn [14]\u001b[0m, in \u001b[0;36m<cell line: 2>\u001b[1;34m()\u001b[0m\n\u001b[0;32m      1\u001b[0m \u001b[38;5;66;03m# 값만 출력\u001b[39;00m\n\u001b[0;32m      2\u001b[0m \u001b[38;5;28;01mfor\u001b[39;00m k \u001b[38;5;129;01min\u001b[39;00m \u001b[38;5;28mrange\u001b[39m (\u001b[38;5;241m0\u001b[39m,\u001b[38;5;28mlen\u001b[39m(list_val)):\n\u001b[1;32m----> 3\u001b[0m     \u001b[38;5;28;01mfor\u001b[39;00m j \u001b[38;5;129;01min\u001b[39;00m \u001b[38;5;28mrange\u001b[39m(\u001b[38;5;241m0\u001b[39m,\u001b[38;5;28mlen\u001b[39m(\u001b[43mlist_val\u001b[49m\u001b[43m[\u001b[49m\u001b[43mj\u001b[49m\u001b[43m]\u001b[49m)):\n\u001b[0;32m      4\u001b[0m         \u001b[38;5;28mprint\u001b[39m(list_val)\n",
      "\u001b[1;31mIndexError\u001b[0m: list index out of range"
     ]
    }
   ],
   "source": [
    "# 값만 출력\n",
    "for k in range (0,len(list_val)):\n",
    "    for j in range(0,len(list_val[j])):\n",
    "        print(list_val)"
   ]
  },
  {
   "cell_type": "code",
   "execution_count": 15,
   "id": "8750ace5",
   "metadata": {},
   "outputs": [
    {
     "data": {
      "text/plain": [
       "'\\nfor k in range(0,len(list_val)):\\n    print(list_val[k])\\n    for j in range(0,len(list_val[k])):\\n        print(list_val[k][j])\\n        '"
      ]
     },
     "execution_count": 15,
     "metadata": {},
     "output_type": "execute_result"
    }
   ],
   "source": [
    "'''\n",
    "for k in range(0,len(list_val)):\n",
    "    print(list_val[k])\n",
    "    for j in range(0,len(list_val[k])):\n",
    "        print(list_val[k][j])\n",
    "        '''"
   ]
  },
  {
   "cell_type": "code",
   "execution_count": 16,
   "id": "c5be97c6",
   "metadata": {},
   "outputs": [
    {
     "name": "stdout",
     "output_type": "stream",
     "text": [
      "{'a': ['aa', 'bb', 'cc']}\n",
      "['aa', 'bb', 'cc']\n",
      "aa\n",
      "bb\n",
      "cc\n",
      "{'b': ['a', 'b', 'c']}\n",
      "['a', 'b', 'c']\n",
      "a\n",
      "b\n",
      "c\n"
     ]
    }
   ],
   "source": [
    "for d in list_val:\n",
    "    print(d)\n",
    "    \n",
    "    for k in d:\n",
    "        print(d[k])\n",
    "        \n",
    "        for v in d[k]:\n",
    "            print(v)"
   ]
  },
  {
   "cell_type": "code",
   "execution_count": 17,
   "id": "19cd8783",
   "metadata": {},
   "outputs": [],
   "source": [
    "# 위에 list_val에 들어있는 딕셔너리의 키에 대응하는 값 중에\n",
    "# 'b'라는 값이 들어 있으면 해당 키에 대응하는 값을\n",
    "# list_temp 라는 리스트변수에 담아주세요\n",
    "# list_temp에 값이 잘 담겨져 있는지 출력하기"
   ]
  },
  {
   "cell_type": "code",
   "execution_count": 18,
   "id": "c14110bd",
   "metadata": {},
   "outputs": [
    {
     "data": {
      "text/plain": [
       "[{'a': ['aa', 'bb', 'cc']}, {'b': ['a', 'b', 'c']}]"
      ]
     },
     "execution_count": 18,
     "metadata": {},
     "output_type": "execute_result"
    }
   ],
   "source": [
    "list_val"
   ]
  },
  {
   "cell_type": "code",
   "execution_count": 19,
   "id": "7295803c",
   "metadata": {},
   "outputs": [
    {
     "name": "stdout",
     "output_type": "stream",
     "text": [
      "['aa', 'bb', 'cc']\n",
      "['a', 'b', 'c']\n"
     ]
    }
   ],
   "source": [
    "for d in list_val:\n",
    "    for k in d:\n",
    "        print(d[k])"
   ]
  },
  {
   "cell_type": "code",
   "execution_count": 24,
   "id": "a14cd353",
   "metadata": {},
   "outputs": [
    {
     "name": "stdout",
     "output_type": "stream",
     "text": [
      "bb\n",
      "b\n"
     ]
    },
    {
     "data": {
      "text/plain": [
       "['bb', 'b']"
      ]
     },
     "execution_count": 24,
     "metadata": {},
     "output_type": "execute_result"
    }
   ],
   "source": [
    "## 나의 풀이\n",
    "list_temp = []\n",
    "for d in list_val:\n",
    "    for k in d:\n",
    "        for v in d[k]:\n",
    "            if 'b' in v:\n",
    "                print(v)\n",
    "                list_temp.append(v)\n",
    "list_temp"
   ]
  },
  {
   "cell_type": "code",
   "execution_count": 23,
   "id": "a5b44bcb",
   "metadata": {},
   "outputs": [
    {
     "name": "stdout",
     "output_type": "stream",
     "text": [
      "aa\n",
      "-----------\n",
      "a\n",
      "-----------\n",
      "bb\n",
      "-----------\n",
      "b\n",
      "-----------\n",
      "cc\n",
      "-----------\n",
      "c\n",
      "-----------\n",
      "a\n",
      "-----------\n",
      "a\n",
      "-----------\n",
      "b\n",
      "-----------\n",
      "b\n",
      "-----------\n",
      "c\n",
      "-----------\n",
      "c\n",
      "-----------\n"
     ]
    },
    {
     "data": {
      "text/plain": [
       "['bb', 'b']"
      ]
     },
     "execution_count": 23,
     "metadata": {},
     "output_type": "execute_result"
    }
   ],
   "source": [
    "## 특정 문자열의 위치\n",
    "list_temp=[]\n",
    "for d in list_val:\n",
    "    for k in d:\n",
    "        for v in d[k]:\n",
    "            print(v)\n",
    "            print('-----------')\n",
    "            print(v[0])\n",
    "            print('-----------')\n",
    "            if v[0] == 'b':\n",
    "                list_temp.append(v)\n",
    "list_temp"
   ]
  },
  {
   "cell_type": "markdown",
   "id": "55153d4e",
   "metadata": {},
   "source": [
    "### find함수는 b라는 문자가 들어있는 인덱스 값을 리턴하고, 없으면 -1을 리턴한다"
   ]
  },
  {
   "cell_type": "code",
   "execution_count": 28,
   "id": "e271b4c1",
   "metadata": {},
   "outputs": [
    {
     "data": {
      "text/plain": [
       "['bb', 'b']"
      ]
     },
     "execution_count": 28,
     "metadata": {},
     "output_type": "execute_result"
    }
   ],
   "source": [
    "## 특정 문자열의 위치\n",
    "list_temp=[]\n",
    "for d in list_val:\n",
    "    for k in d:\n",
    "        for v in d[k]:\n",
    "#             print(v)\n",
    "#             print(v.find('b'))\n",
    "            if v.find('b') != -1: # find함수는 b라는 문자가 들어있는 인덱스 값을 리턴하고, 없으면 -1을 리턴한다\n",
    "                list_temp.append(v)\n",
    "list_temp"
   ]
  },
  {
   "cell_type": "markdown",
   "id": "c108743c",
   "metadata": {},
   "source": [
    "##### rang쓰는방법"
   ]
  },
  {
   "cell_type": "code",
   "execution_count": 32,
   "id": "365653d9",
   "metadata": {},
   "outputs": [
    {
     "data": {
      "text/plain": [
       "2"
      ]
     },
     "execution_count": 32,
     "metadata": {},
     "output_type": "execute_result"
    }
   ],
   "source": [
    "len(list_val)"
   ]
  },
  {
   "cell_type": "code",
   "execution_count": 36,
   "id": "abb9991e",
   "metadata": {},
   "outputs": [
    {
     "name": "stdout",
     "output_type": "stream",
     "text": [
      "{'a': ['aa', 'bb', 'cc']}\n",
      "{'b': ['a', 'b', 'c']}\n"
     ]
    }
   ],
   "source": [
    "for i in range(0, len(list_val)):\n",
    "    print(list_val[i])"
   ]
  },
  {
   "cell_type": "markdown",
   "id": "78da34c9",
   "metadata": {},
   "source": [
    "##### 값을 이용"
   ]
  },
  {
   "cell_type": "code",
   "execution_count": 39,
   "id": "3d90a847",
   "metadata": {},
   "outputs": [
    {
     "name": "stdout",
     "output_type": "stream",
     "text": [
      "{'a': ['aa', 'bb', 'cc']}\n",
      "{'b': ['a', 'b', 'c']}\n"
     ]
    }
   ],
   "source": [
    "for v in list_val:\n",
    "    print(v)"
   ]
  },
  {
   "cell_type": "code",
   "execution_count": null,
   "id": "f8e693b9",
   "metadata": {},
   "outputs": [],
   "source": []
  }
 ],
 "metadata": {
  "kernelspec": {
   "display_name": "Python 3 (ipykernel)",
   "language": "python",
   "name": "python3"
  },
  "language_info": {
   "codemirror_mode": {
    "name": "ipython",
    "version": 3
   },
   "file_extension": ".py",
   "mimetype": "text/x-python",
   "name": "python",
   "nbconvert_exporter": "python",
   "pygments_lexer": "ipython3",
   "version": "3.9.12"
  }
 },
 "nbformat": 4,
 "nbformat_minor": 5
}
